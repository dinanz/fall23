{
 "cells": [
  {
   "cell_type": "markdown",
   "metadata": {},
   "source": [
    "# Homework 1\n",
    "Due September 28, 2023"
   ]
  },
  {
   "cell_type": "markdown",
   "metadata": {},
   "source": [
    "## Q1: Language standards\n",
    "1. (JLS20, Section 8.1.1.2., p.242) A class can be declared sealed if all its direct subclasses are known when the class is declared, and no other direct subclasses are desired or required. A class can be declared final if its definition is complete and no subclasses are desired or required.\n",
    "2. (JLS20, Section 8.3, p.266) A class can inherit multiple fields with the same name from superclasses or superinterfaces; by using the interface name (InterfaceName.FieldName) and super keyword (super.FieldName) to distinguish between the inherited fields.\n",
    "3. No, it can lack an intialiser. (JLS20, Section 4.12.4, p.102) A blank final is a final variable whose declaration lacks an initializer.\n",
    "4. The idea behind definite assignment is that an assignment to the local variable or blank final field must occur on every possible execution path to the access. (JLS20, Chapter 16, p.713)\n",
    "5. (ECMA-334, section 13.9.5, p.232) The C# foreach loop is specifically for direct iteration over elements of a collection as opposed to being for more general and custom iteration; also foreach forbids modification to the iteration variable in the embedded statement (such as i++ or i-- in the for loop).\n",
    "6. (ECMA-334, Section 15.5.5, p.286) An uninitialised variable is given the default value of the variable's type, e.g. uninitialised booleans are by default false. \n",
    "7. (ECMA-334, Section 9.2.4, p.60) A dynamic variable isn't checked until runtime, and an exception will be thrown if there is an error. The dynamic keyword allows for dynamic binding\n",
    "8. Other formats other than the .class file are acceptable, but they must be able to be mapped into the class file format by a class loader written in Java. (JLS20, Section 13.1 p. 452)\n",
    "9. Java's alphabet/character set is Unicode. All code must be written in characters found in Unicode on systems that support only ASCII. (JLS20, Section 1.1, p.2)"
   ]
  },
  {
   "cell_type": "markdown",
   "metadata": {},
   "source": [
    "## Q2: Grammars and parse trees\n",
    "1. \n",
    "    - a. The language whose string contains either 0 or more instances of the following: one or more instsances of a followed by a valid string followed by an optional b, or b followed by a valid string followed by one or more instances of a; or nothing.\n",
    "    - b. The language whose string contains either of the following: 0 followed by a valid string followed by 0, 0 followed by a valid string followed by 1, 1 followed by a valid string followed by 0, 1 followed by a valid string followed by 1, or 0.\n",
    "    - c. The language that contains two valid sentence types. One is the start symbol \n",
    "2. \n",
    "    - a. (0*(1(1|0)\\*)\\*)?1(1|0)\\*\n",
    "    - String: 0110\n",
    "        - Parse tree 1:\n",
    "        ```\n",
    "                        s\n",
    "                       /|\\\n",
    "                      A 1 B\n",
    "                    / |   |\\\n",
    "                   0  ε   1 B\n",
    "                            /\\\n",
    "                           0  ε\n",
    "        ```\n",
    "        - Parse tree 2:\n",
    "        ```\n",
    "                        s\n",
    "                       /|\\\n",
    "                      A 1 B\n",
    "                    / |   |\\\n",
    "                   0  A   0 B\n",
    "                     /|\\    |\n",
    "                    A 1 B   ε\n",
    "                    |   |\n",
    "                    ε   ε\n",
    "        ```\n",
    "3. \n",
    "  - S -> \n",
    "  - A -> \n",
    "4. "
   ]
  },
  {
   "cell_type": "markdown",
   "metadata": {},
   "source": [
    "## Q3: Regular expressions\n",
    "2. [ac]*b[ac]\\*\n",
    "3. [aaabc]*\n",
    "4. ([abc]{3})*\n",
    "5. ([1-9][0-9]\\*)?[02468]\n",
    "6. [01]*^(010)[01]\\*\n",
    "7. `[a-zA-Z<>/]*^(</)[a-zA-Z<>/]\\*`"
   ]
  },
  {
   "cell_type": "markdown",
   "metadata": {},
   "source": [
    "## Q5: Associativity and precedence\n",
    "1. \n",
    "    - ODD 32 ADD 3 SWP REV 24\n",
    "    - ODD 32 ADD 3 SWP (REV 24)\n",
    "    - (ODD 32) ADD 3 SWP 42\n",
    "    - 2 ADD (3 SWP 42)\n",
    "    - (2 ADD 423)\n",
    "    - 425\n",
    "2. \n",
    "    - REV 421 SUB 1 ADD 4 SWP ODD 32\n",
    "    - (REV 421) SUB 1 ADD 4 SWP ODD 32\n",
    "    - 124 SUB 1 ADD 4 SWP (ODD 32)\n",
    "    - 124 SUB 1 ADD (4 SWP 2)\n",
    "    - 124 SUB (1 ADD 24)\n",
    "    - (124 SUB 25)\n",
    "    - 99\n",
    "3. \n",
    "    - ODD 725 SWP REV 78 SWP ODD 242 ADD 2\n",
    "    - ODD 725 SWP (REV 78) SWP ODD 242 ADD 2\n",
    "    - (ODD 725) SWP 87 SWP ODD 242 ADD 2\n",
    "    - 2 SWP 87 SWP (ODD 242) ADD 2\n",
    "    - 2 SWP (87 SWP 242) ADD 2\n",
    "    - (2 SWP 24287) ADD 2\n",
    "    - (242872 ADD 2)\n",
    "    - 242874\n",
    "4. \n",
    "    - 71 CAT 6 SWP 12 SUB ODD REV 423\n",
    "    - 71 CAT 6 SWP 12 SUB ODD (REV 423)\n",
    "    - 71 CAT 6 SWP 12 SUB (ODD 324)\n",
    "    - 71 CAT (6 SWP 12) SUB 24\n",
    "    - (71 CAT 126) SUB 24\n",
    "    - (71126 SUB 24)\n",
    "    - 71102\n",
    "5. `***！！！！！(ASK ABOUT THIS)`\n",
    "    - ODD (10 SWP ADD ODD REV 921 SWP 12)\n",
    "    - ODD (10 SWP ADD ODD (REV 921) SWP 12)\n",
    "    - ODD (10 SWP ADD (ODD 129) SWP 12)\n",
    "    - ODD (10 SWP ADD (2 SWP 12))\n",
    "    - ODD (10 SWP ADD 122)\n"
   ]
  },
  {
   "cell_type": "markdown",
   "metadata": {},
   "source": [
    "## Q6.\n",
    "1. \"Hello Darling! Hello World!\"\n",
    "    - g()  &&  (i() || f())   &&   (h() || i() && f()) = false\n",
    "    - g(False)  &&  (i(True) || f(True))   &&   (h(Either) || i(True) && f(True)) = false\n",
    "    - don't want to print h() so i() && f() must be true\n",
    "    - the second i() won't be printed\n",
    "    - the whole statement msut be false so \"what lovely weather\" won't print, so with the previous two statements evaluating to true g() must be false\n",
    "2. (n4944 C++, Section 7.6, p.150) In C++, the logical operators such as && and || guarantees left-to-right exaluation, and the right hand side isn't evaluated if the left is already true.\n",
    "3. In the case where for example a variable might be null or some value that would cause an error/exception, it would be useful to hide it later in the evaluation sequence so that it can be guaranteed never to evaluate on an error-raising value.\n",
    "    - E.g. if(arr != null && arr.length > 3). In this case, if the array is null, it wouldn't try to find its length as it would raise an error."
   ]
  },
  {
   "cell_type": "code",
   "execution_count": null,
   "metadata": {
    "vscode": {
     "languageId": "ruby"
    }
   },
   "outputs": [],
   "source": [
    "if ( g() && (i() || f()) && (h() || i() && f()) ){\n",
    "    cout << \"What lovely weather!\" << endl;\n",
    "}\n",
    "\n",
    "bool f(){\n",
    "    cout << \"Hello \";\n",
    "    return true;\n",
    "}\n",
    "\n",
    "bool g(){   \n",
    "    cout << \"World! \";\n",
    "    return false;\n",
    "}\n",
    "\n",
    "bool h(){\n",
    "    cout << \"There \";\n",
    "    return either;\n",
    "}\n",
    "\n",
    "bool i(){\n",
    "    cout << \"Darling! \";\n",
    "    return true;\n",
    "}"
   ]
  },
  {
   "cell_type": "markdown",
   "metadata": {},
   "source": [
    "## Q7: Bindings and nested subprograms\n",
    "| Unit | Var | Where declared |\n",
    "|------|-----|----------------|\n",
    "| main | a b | main main|\n",
    "| sub1 | a b | main main |\n",
    "| sub2 | a b c | main main sub2 |\n",
    "| sub3 | a b c d | main main sub2 sub3 |"
   ]
  },
  {
   "cell_type": "code",
   "execution_count": null,
   "metadata": {
    "vscode": {
     "languageId": "powershell"
    }
   },
   "outputs": [],
   "source": [
    "program main;\n",
    "    var a, b : integer;\n",
    "\n",
    "    procedure sub1;\n",
    "        var a : integer;\n",
    "        begin {sub1}\n",
    "        ...\n",
    "        end; {sub1}\n",
    "\n",
    "    procedure sub2;\n",
    "        var a, c: integer;\n",
    "        procedure sub3;\n",
    "            var b, d : integer;\n",
    "            begin {sub3}\n",
    "            ...\n",
    "            end; {sub3}\n",
    "    begin {sub2}\n",
    "    ...\n",
    "    end; {sub2}\n",
    "    \n",
    "begin {main}\n",
    "...\n",
    "end {main}"
   ]
  }
 ],
 "metadata": {
  "language_info": {
   "name": "python"
  },
  "orig_nbformat": 4
 },
 "nbformat": 4,
 "nbformat_minor": 2
}
