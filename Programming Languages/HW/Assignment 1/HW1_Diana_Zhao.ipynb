{
 "cells": [
  {
   "cell_type": "markdown",
   "metadata": {},
   "source": [
    "# Homework 1\n",
    "Due September 28, 2023"
   ]
  },
  {
   "cell_type": "markdown",
   "metadata": {},
   "source": [
    "## Question 1: Language standards\n",
    "1. (Section 8.1.1.2., p.242) A class can be declared sealed if all its direct subclasses are known when the class is declared, and no other direct subclasses are desired or required. A class can be declared final if its definition is complete and no subclasses are desired or required.\n",
    "2. (Section 8.3, p.266) A class can inherit multiple fields with the same name from superclasses or superinterfaces; by using the interface name (InterfaceName.FieldName) and super keyword (super.FieldName) to distinguish between the inherited fields.\n",
    "3. No, it can lack an intialiser. (Section 4.12.4, p.102) A blank final is a final variable whose declaration lacks an initializer.\n",
    "4. The idea behind definite assignment is that an assignment to the local variable or blank final field must occur on every possible execution path to the access. (Chapter 16, p.713)\n",
    "5. \n",
    "6. \n",
    "7. \n",
    "8. Other formats other than the .class file are acceptable, but they must be able to be mapped into the class file format by a class loader written in Java. (Section 13.1 p. 452)\n",
    "9. Java's alphabet/character set is Unicode. All code must be written in characters found in Unicode on systems that support only ASCII. (Section 1.1, p.2)"
   ]
  },
  {
   "cell_type": "markdown",
   "metadata": {},
   "source": [
    "## Q6.\n"
   ]
  },
  {
   "cell_type": "code",
   "execution_count": null,
   "metadata": {
    "vscode": {
     "languageId": "ruby"
    }
   },
   "outputs": [],
   "source": [
    "if ( g() && (i() || f()) && (h() || i() && f()) ){\n",
    "    cout << \"What lovely weather!\" << endl;\n",
    "}\n",
    "\n",
    "bool f(){\n",
    "    cout << \"Hello \";\n",
    "    return ____________;\n",
    "}\n",
    "\n",
    "bool g(){   \n",
    "    cout << \"World! \";\n",
    "    return _____________;\n",
    "}\n",
    "\n",
    "bool h(){\n",
    "    cout << \"There \";\n",
    "    return _____________;\n",
    "}\n",
    "\n",
    "bool i(){\n",
    "    cout << \"Darling! \";\n",
    "    return ____________;\n",
    "}"
   ]
  }
 ],
 "metadata": {
  "language_info": {
   "name": "python"
  },
  "orig_nbformat": 4
 },
 "nbformat": 4,
 "nbformat_minor": 2
}
