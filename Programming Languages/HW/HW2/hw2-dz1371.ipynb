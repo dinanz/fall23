{
 "cells": [
  {
   "cell_type": "markdown",
   "metadata": {},
   "source": [
    "## Q1\n",
    "1. "
   ]
  },
  {
   "cell_type": "markdown",
   "metadata": {},
   "source": [
    "## Q2\n",
    "- a. MAIN -> BIGSUB -> SUB2(7) -> SUB3 -> SUB1\n",
    "- b. Variables that never change are: MAIN.X, SUB2,B, SUB3.C, SUB1.C, BIGSUB.B\n",
    "- c. SUB2.E = 2+9 = 11; BIGSUB.A = 11; SUB1.A = 2+3 = 5\n",
    "- d. Yes it would change. Now a subprogram is looking at the function that called it, so in SUB1, for A := B + C it would use SUB2.B (caller's caller) instead of BIGSUB.B (nesting program).\n",
    "- e. \n",
    "- f. Statically yes"
   ]
  },
  {
   "cell_type": "code",
   "execution_count": null,
   "metadata": {
    "vscode": {
     "languageId": "ruby"
    }
   },
   "outputs": [],
   "source": [
    "procedure MAIN;\n",
    "    int X = 3\n",
    "\n",
    "    procedure BIGSUB;\n",
    "        int A = 1\n",
    "        int B = 2\n",
    "\n",
    "        procedure SUB1;\n",
    "            int A = 7\n",
    "            int C = 3\n",
    "\n",
    "        begin {SUB1}\n",
    "            A := B + C; (1.A, BIGSUB.B, 1.C) <----- (1)\n",
    "            print(A, B, C);\n",
    "        end; {SUB1}\n",
    "\n",
    "        procedure SUB2(X : integer);\n",
    "            int B = 2\n",
    "            int E = 4;\n",
    "\n",
    "            procedure SUB3;\n",
    "                int C = 9;\n",
    "\n",
    "            begin {SUB3}\n",
    "                SUB1;\n",
    "                E := B + C; (2.E, 2.B, 3.C, = )\n",
    "                print(E);\n",
    "            end; {SUB3}\n",
    "\n",
    "        begin {SUB2}\n",
    "            SUB3;\n",
    "            A := E; (BIGSUB.A, 2.E)\n",
    "        end; {SUB2}\n",
    "\n",
    "    begin {BIGSUB}\n",
    "        SUB2(7);\n",
    "    end; {BIGSUB}\n",
    "\n",
    "begin\n",
    "    BIGSUB;\n",
    "end; {MAIN}"
   ]
  }
 ],
 "metadata": {
  "language_info": {
   "name": "python"
  },
  "orig_nbformat": 4
 },
 "nbformat": 4,
 "nbformat_minor": 2
}
