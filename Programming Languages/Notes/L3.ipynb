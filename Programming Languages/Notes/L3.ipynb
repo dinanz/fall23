{
 "cells": [
  {
   "cell_type": "markdown",
   "metadata": {},
   "source": [
    "# Lecture 3: Subprograms\n",
    "Sep 19, 2023"
   ]
  },
  {
   "cell_type": "markdown",
   "metadata": {},
   "source": [
    "### Subprograms\n",
    "- The basic abstraction mechanism\n",
    "    - Promotes code reuse\n",
    "    - Increases readability and maintainability\n",
    "- Two kinds:\n",
    "    1. Functions\n",
    "        - The mathematical notion of computation\n",
    "        - Input -> Output\n",
    "        - Enclosed in the function; nothing outside of the function changes\n",
    "        - Pure functional model possible but rare (Haskell, Clean)\n",
    "    2. Procedures\n",
    "        - Affect the environment, and are called for their side-effects\n",
    "        - Side effects refer to a change in program state beyond the scope of the procedure\n",
    "- Hybrid models most common. Functions can have side effects"
   ]
  },
  {
   "cell_type": "markdown",
   "metadata": {},
   "source": [
    "### Environment of the computation\n",
    "- Declarations introduce names that denote entities\n",
    "- At execution time, entities are bound to values or to locations\n",
    "    - name -> value: functional\n",
    "    - name -> location -> value: imperative\n",
    "- Exceptions exist: C++ e.g. #define NINE 9\n",
    "- Value binding takes place during function invocation\n",
    "- Names are bound to location on scope entry\n",
    "- Locations are bound to values by assignment"
   ]
  },
  {
   "cell_type": "markdown",
   "metadata": {},
   "source": [
    "### Parameter passing\n",
    "- The Actual parameters are the variables that are transferred to the function when it is requested. The Formal Parameters are the values determined by the function that accepts values when the function is declared.\n",
    "- The rules that describe the binding of arguments to formal parameters\n",
    "    - e.g. function f (a, b, c)\n",
    "- by value: formal is bound to value of actual\n",
    "    - value of actual is coped to the stack frame\n",
    "    - copying can be expensive for large objects\n",
    "    - once copied, modification/access is same as a local variable\n",
    "- by reference: formal is bound to location of actual\n",
    "    - the address of the actual is copied to the stack frame\n",
    "    - copying is fast, since memory address is small\n",
    "    - modification/access requires two levels of indirection: all access preceded by dereference\n",
    "- by copy-return: formal is bound to value of actual; upon return from routine, actual gets copy of formal\n",
    "    - similar to value, except parameter copy happens twice\n",
    "- by name: formal is bound to expression for actual; expression evaluated whenever needed, writes to parameter are allowed\n",
    "    - evaluation performed every time a formal parameter is referenced\n",
    "    - performance depends on the expression\n",
    "- by need: formal is bound to expression for actual; expression evaluated the first time its value is needed; cannot write to parameters\n",
    "    - performance similar to value, evaluated only once"
   ]
  },
  {
   "cell_type": "markdown",
   "metadata": {},
   "source": [
    "### Parameter passing in Ada\n",
    "- Goal: separate semantic intent from implementation\n",
    "- Parameter modes:\n",
    "    - in: read only in subprogram (default)\n",
    "    - out: write in subprogram\n",
    "    - in out: read-write in subprogram\n",
    "- Independent of whether binding by value, by reference, or by copy-return\n",
    "- Functions can only have in parameters"
   ]
  },
  {
   "cell_type": "markdown",
   "metadata": {},
   "source": [
    "### Syntactic sugar\n",
    "- Default values for in-parameters (Ada)\n",
    "    - function Incr (Base: Integer; Inc: Integer :+ 1) return Integer;\n",
    "- Incr(A(J)) "
   ]
  },
  {
   "cell_type": "markdown",
   "metadata": {},
   "source": [
    "### Parameter passing in C\n",
    "- C: parameter passing by value, no semantic checks. Assignment to formal is assignment to local copy\n",
    "- if argument is pointer, effect is similar to passing designated object by reference\n",
    "    ```\n",
    "    void incr ( int * x ) {\n",
    "        (* x )++;\n",
    "    }\n",
    "    incr (& counter ); /* pointer to counter */\n",
    "    ```\n",
    "- no need to distinguish between functions and procedures: void return type indicates side-effects only"
   ]
  },
  {
   "cell_type": "markdown",
   "metadata": {},
   "source": [
    "### Parameter passing in C++\n",
    "- default is by-value (same semantics as C)\n",
    "- explicit reference parameters:\n",
    "    ```\n",
    "    void incr ( int & y ) {\n",
    "        y ++;\n",
    "    }\n",
    "    incr ( counter ); // compiler knows profile of incr ,\n",
    "                      // builds reference\n",
    "    ```\n",
    "- semantic intent indicated by qualifier:\n",
    "    ```\n",
    "    void f ( const double & val ); // passed by reference ,\n",
    "                                    // cannot be unbound\n",
    "    ```"
   ]
  },
  {
   "cell_type": "markdown",
   "metadata": {},
   "source": [
    "### Parameter passing in Java\n",
    "- by value only\n",
    "- semantics of assignment differs for primitive types and for classes:\n",
    "    - primitive types have value semantics\n",
    "    - objects have reference semantics\n",
    "- consequence: methods can modify objects\n",
    "- for formals of primitive types: assignment allowed, affects local copy\n",
    "- for objects: final means that formal is read-onl"
   ]
  },
  {
   "cell_type": "markdown",
   "metadata": {},
   "source": [
    "### Parameter passing anomalies"
   ]
  },
  {
   "cell_type": "markdown",
   "metadata": {},
   "source": [
    "### Storage outside the block"
   ]
  },
  {
   "cell_type": "markdown",
   "metadata": {},
   "source": [
    "### Bounded nesting"
   ]
  },
  {
   "cell_type": "markdown",
   "metadata": {},
   "source": [
    "### Run-time organisation\n",
    "- Each subprogram invocation creates an activation record\n",
    "- Recursion imposes stack allocation\n",
    "- Activation record holds actuals, linkage information, saved registers, local entities\n",
    "- Caller: place actuals on stack, return address, linkage information, then transfer control to callee\n",
    "- Prologue: place return value in register or stack postion, update actuals, restore registers, then transfer control to caller\n",
    "- Binding of locations: actuals and locals are at fixed offsets from frame pointers\n",
    "- Complications: variable # of actuals, dynamic objects"
   ]
  },
  {
   "cell_type": "markdown",
   "metadata": {},
   "source": [
    "### Activation record layout\n"
   ]
  },
  {
   "cell_type": "markdown",
   "metadata": {},
   "source": [
    "### Variable number of parameters\n",
    "- e.g. `printf(\"this is %d a format %d string\", x, y)`\n",
    "- Within body of printf, need to locate as many actuals as placeholders in the format string\n",
    "- solution: place parameters on stack in reverse order (actuals at positive offset from FP, locals at negative offset from FP)"
   ]
  },
  {
   "cell_type": "markdown",
   "metadata": {},
   "source": [
    "### Calling conventions\n",
    "- \n",
    "- When code calls out to a library, it must follow the calling conventions of the library"
   ]
  },
  {
   "cell_type": "markdown",
   "metadata": {},
   "source": [
    "### Objects of dynamic size\n"
   ]
  },
  {
   "cell_type": "markdown",
   "metadata": {},
   "source": [
    "### Runtimme access to globals\n"
   ]
  },
  {
   "cell_type": "markdown",
   "metadata": {},
   "source": [
    "### Global linkage\n"
   ]
  },
  {
   "cell_type": "markdown",
   "metadata": {},
   "source": [
    "### Static links\n",
    "- "
   ]
  },
  {
   "cell_type": "markdown",
   "metadata": {},
   "source": [
    "### Display"
   ]
  },
  {
   "cell_type": "markdown",
   "metadata": {},
   "source": [
    "### Returning composite values"
   ]
  }
 ],
 "metadata": {
  "language_info": {
   "name": "python"
  },
  "orig_nbformat": 4
 },
 "nbformat": 4,
 "nbformat_minor": 2
}
