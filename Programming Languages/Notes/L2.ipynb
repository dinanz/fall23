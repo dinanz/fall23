{
 "cells": [
  {
   "cell_type": "markdown",
   "metadata": {},
   "source": [
    "# L2 Binding, Scopes, and Control Structures"
   ]
  },
  {
   "cell_type": "markdown",
   "metadata": {},
   "source": [
    "### Names\n",
    "- What can we name?\n",
    "    - Mutable variables\n",
    "    - Values\n",
    "    - Functions\n",
    "    - Types\n",
    "    - Type contructors\n",
    "    - Classes\n",
    "    - Modules/packages\n",
    "    - Execution\n",
    "    - Execution points with environment"
   ]
  },
  {
   "cell_type": "markdown",
   "metadata": {},
   "source": [
    "### Binding times\n",
    "- A `binding` is an association of two things; the first is usually a name.\n",
    "- Binding times:\n",
    "    - Language design time: semantics of most language constructs\n",
    "    - Language implementation time: implementation dependent semantics\n",
    "    - Compile time\n",
    "    - Link time\n",
    "    - Run time\n",
    "- Static: before runtime; dynamic: during runtime"
   ]
  },
  {
   "cell_type": "markdown",
   "metadata": {},
   "source": [
    "### Dynamic vs. static binding\n",
    "- Dynamic/runtime binding:\n",
    "    - Address of functions are determined at runtime\n",
    "    - Memory is allocated during runtime\n",
    "    - e.g. pointers, reference\n",
    "    - Advantages\n",
    "        - Flexibility: more control to programmer\n",
    "        - Polymorphic code:\n",
    "            - Subtype polymorphism (dynamic dispatch) e.g. Method overriding\n",
    "            - Parametric polymorphism (generics) e.g. Method overloading\n",
    "- Static/compile time binding:\n",
    "    - Address of functions determined at compile time\n",
    "    - Memory allocated at compile time\n",
    "    - Advantages:\n",
    "        - Efficiency: compiler can make some optimisations\n",
    "        - Invariance: compiler fixes all types of variables and expressions"
   ]
  },
  {
   "cell_type": "markdown",
   "metadata": {},
   "source": [
    "### Scope and lifetime\n",
    "- Scope: the region of program text where a binding is active.\n",
    "- Lifetime: the period of time between the creation of an entity and its destruction."
   ]
  },
  {
   "cell_type": "markdown",
   "metadata": {},
   "source": [
    "### Lifetimes\n",
    "- Typically three areas of storage, corresponding to different lifetimes\n",
    "- Static objects: lifetime of entire program execution\n",
    "    - Globals, static variables\n",
    "- Stack objects\n",
    "    - From the time a function runs to the time it terminates\n",
    "- Heap objects\n",
    "    - dynamically allocated variables, e.g. new"
   ]
  },
  {
   "cell_type": "markdown",
   "metadata": {},
   "source": [
    "### Scope\n",
    "- `Static`: binding of a name is given by its declaration in the innermost enclosing block\n",
    "    - Most languages use some variant of this\n",
    "    - Closest nested scope rule usually applies\n",
    "- `Dynamic`: binding of a name is given by the most recent declaration encountered at runtime\n",
    "    - Used in Lisp, Snobol, APL"
   ]
  },
  {
   "cell_type": "markdown",
   "metadata": {},
   "source": [
    "### Static scoping variations\n",
    "- What is the scope of x?\n",
    "    ```\n",
    "    {\n",
    "        statements1 ;\n",
    "        var x = 5;\n",
    "        statements2 ;\n",
    "    }\n",
    "    ```\n",
    "-  C++, Ada: statements2\n",
    "- Legacy C, Pascal: statements2 (but statements1 not allowed)\n",
    "- Javascript: entire block"
   ]
  },
  {
   "cell_type": "markdown",
   "metadata": {},
   "source": [
    "### Memory allocation\n",
    "- Static: allocated once at compile time (usually in protected memory.) Usually include:\n",
    "    - Strings, constants, static variables.\n",
    "- Stacks: allocated in frames on a first-in last-out basis. Frames usually store:\n",
    "    - Actual parameters\n",
    "    - Temporaries\n",
    "    - Local variables\n",
    "    - Bookkeeping information\n",
    "    - Return address\n",
    "- Heap: allocated from main memory according to an allocation policy.\n",
    "    - First-fit\n",
    "    - Best-fit"
   ]
  },
  {
   "cell_type": "markdown",
   "metadata": {},
   "source": [
    "### Overloading\n",
    "- Overloading is a form of ad-hoc polymorphism whereby methods and operators can have several meanings depending on context.\n",
    "    - Functions: normally distinguished by the function signature.\n",
    "    - Custom memory allocation (C++: new and placement-new)\n",
    "    - Operators\n",
    "- Some languages can define new operators (ALGOL 68, Fortran, F#, Smalltalk)\n",
    "    - And others can’t. (ML, Prolog)\n",
    "    - Some languages will overload only a limited set (C++, Pascal, C#)\n",
    "    - And others don’t support overloading at all. (C, Java, JavaScript, BASIC)\n",
    "- Do not confuse with a similar but distinct concept of coercion.\n",
    "    - Overloading example: multiple functions, use the one depending on specific operation. "
   ]
  },
  {
   "cell_type": "markdown",
   "metadata": {},
   "source": [
    "### Control structures\n",
    "- A control structure is any mechanism that departs from the default straight line execution\n",
    "- Selection\n",
    "    - if\n",
    "    - case\n",
    "- Iteration\n",
    "    - while\n",
    "    - for\n",
    "    - Direct iteration over collections/elements\n",
    "- Misc\n",
    "    - goto\n",
    "    - call/return\n",
    "    - exceptions\n",
    "    - continuations"
   ]
  },
  {
   "cell_type": "markdown",
   "metadata": {},
   "source": [
    "### The infamous go-to\n",
    "- In machine language, there are no ifs or loops\n",
    "- Only branches, which are unconditional or conditional\n",
    "- To implement loops/ifs/cases, only need\n",
    "    1. increment\n",
    "    2. decrement\n",
    "    3. branch on zero\n",
    "    - to build a universal machine\n",
    "- Can't do this in high level languages because unstructured use of `goto` can lead to confusing programs (goto statement considered harmful)"
   ]
  },
  {
   "cell_type": "markdown",
   "metadata": {},
   "source": [
    "### Selection\n",
    "- `if Condition then Statemennt` - Pascal, Ada\n",
    "- `if (Condition) Statement` - C/C++, Java\n",
    "- Some languages have end markesr to avoid ambiguities `end if`, `}`"
   ]
  },
  {
   "cell_type": "markdown",
   "metadata": {},
   "source": [
    "### Nesting\n",
    "- Nested selection"
   ]
  },
  {
   "cell_type": "markdown",
   "metadata": {},
   "source": [
    "### Statement grouping\n",
    "- Pascal uses begin-end pair to mark sequence\n",
    "- C/C++/Java abbreviates keywords to {}\n",
    "- Ada\n",
    "    - `for J in 1..N loop ... end loop`\n",
    "- Python uses indentation"
   ]
  },
  {
   "cell_type": "markdown",
   "metadata": {},
   "source": [
    "### Short-circuit evaluation\n",
    "- Where the compiler skips evaluating some sub-expression of a logical statement if the result is already determined\n",
    "- e.g. A && B : skips evaluting B if A is already false\n",
    "- e.g. A || B : skips evaluating B is A is already true"
   ]
  },
  {
   "cell_type": "markdown",
   "metadata": {},
   "source": [
    "### Multiway selection\n",
    "- `case` statement needed when there are many possible outcomes at the same logical level"
   ]
  },
  {
   "cell_type": "markdown",
   "metadata": {},
   "source": [
    "### Ada case statement\n",
    "- no flow-through\n",
    "- all possible choices must be covered; else default action mandatory\n",
    "- no inccessible branches or duplicate choices\n",
    "- choices must be static"
   ]
  },
  {
   "cell_type": "markdown",
   "metadata": {},
   "source": [
    "### Implementation of case\n",
    "- Possible implementation for C/C++/Java/Ada style case, if finite set of possibilities and choices are computable at compile-time\n",
    "    1. Build table of case handlers, one entry for each case\n",
    "    2. transform input value to table index\n",
    "    3. Branch to that address\n",
    "    4. Execute\n",
    "    - 5. Branch to end of case statement"
   ]
  },
  {
   "cell_type": "markdown",
   "metadata": {},
   "source": [
    "### Complications"
   ]
  },
  {
   "cell_type": "markdown",
   "metadata": {},
   "source": [
    "### Infinite loops\n",
    "- All loops can be expressed as while loops\n",
    "    - Good for invariant/assertion reasoning\n",
    "- Condition evaluated at each iteration\n",
    "- If condition initially false, loop is never executed\n",
    "    - `while condition loop ... end loop;`"
   ]
  },
  {
   "cell_type": "markdown",
   "metadata": {},
   "source": [
    "### Executing while at least once\n",
    "- Check condition at end of loop\n",
    "- `repeat ... until condition;`\n",
    "- `do {} while (condition);`\n",
    "- Can be simulated with a while + boolean variable\n",
    "    ```\n",
    "    first := True\n",
    "    while (first or else condition) loop\n",
    "        ...\n",
    "        first := False;\n",
    "    end loop;\n",
    "    ```"
   ]
  },
  {
   "cell_type": "markdown",
   "metadata": {},
   "source": [
    "### Breaking out\n",
    "- `break` (C/C++, Java)\n",
    "- `last` (Perl)\n",
    "- `exit` (Ada)"
   ]
  },
  {
   "cell_type": "markdown",
   "metadata": {},
   "source": [
    "### Breaking multiple nests\n",
    "- Breaking out of multiple loop levels\n",
    "- Naming loops (Java, Ada, Perl)\n",
    "- goto (C/C++)"
   ]
  },
  {
   "cell_type": "markdown",
   "metadata": {},
   "source": [
    "### Definite loops\n",
    "- Counting loops are iterators over discrete domains\n",
    "    - `for J in 1..10 loop ... end loop;`\n",
    "    - `for (int i = 0; i < n; i++) {...}`\n",
    "- Design issues\n",
    "    - Evaluation of bounds\n",
    "    - Scope of loop variable\n",
    "    - Empty loops\n",
    "    - Increments other than 1\n",
    "    - Backwards iteration\n",
    "    - Non-numeric domains"
   ]
  },
  {
   "cell_type": "markdown",
   "metadata": {},
   "source": [
    "### Evaluation of bounds\n",
    "```\n",
    "for J in 1..N loop\n",
    "    ...\n",
    "    N := N + 1;\n",
    "end loop;\n",
    "```"
   ]
  },
  {
   "cell_type": "markdown",
   "metadata": {},
   "source": [
    "### Loop variable\n",
    "- Constant and local variables better\n",
    "- Constsant: no changes to variable (changes can affect loop execution and be confusing)\n",
    "- Local: lifespan ends after loop terminates"
   ]
  },
  {
   "cell_type": "markdown",
   "metadata": {},
   "source": [
    "### Non-numeric domains\n",
    "- Iterating directly over collections\n",
    "    ```\n",
    "    iterator = Collection.Iterate()\n",
    "    for(element e = iterator.first; iterator.hasNext(); iterator.next())\n",
    "    ```"
   ]
  }
 ],
 "metadata": {
  "language_info": {
   "name": "python"
  },
  "orig_nbformat": 4
 },
 "nbformat": 4,
 "nbformat_minor": 2
}
