{
 "cells": [
  {
   "cell_type": "markdown",
   "metadata": {},
   "source": [
    "# L2 Binding, Scopes, and Control Structures"
   ]
  },
  {
   "cell_type": "markdown",
   "metadata": {},
   "source": [
    "### Names\n",
    "- What can we name?\n",
    "    - Mutable variables\n",
    "    - Values\n",
    "    - Functions\n",
    "    - Types\n",
    "    - Type contructors\n",
    "    - Classes\n",
    "    - Modules/packages\n",
    "    - Execution\n",
    "    - Execution points with environment"
   ]
  },
  {
   "cell_type": "markdown",
   "metadata": {},
   "source": [
    "### Binding times\n",
    "- A `binding` is an association of two things; the first is usually a name.\n",
    "- Binding times:\n",
    "    - Language design time: semantics of most language constructs\n",
    "    - Language implementation time: implementation dependent semantics\n",
    "    - Compile time\n",
    "    - Link time\n",
    "    - Run time\n",
    "- Static: before runtime; dynamic: during runtime"
   ]
  },
  {
   "cell_type": "markdown",
   "metadata": {},
   "source": [
    "### Scope and lifetime\n",
    "- Scope: the region of program text where a binding is active.\n",
    "- Lifetime: the period of time between the creation of an entity and its destruction."
   ]
  },
  {
   "cell_type": "markdown",
   "metadata": {},
   "source": [
    "### Lifetimes\n",
    "- Typically three areas of storage, corresponding to different lifetimes\n",
    "- Static objects: lifetime of entire program execution\n",
    "    - Globals, static variables\n",
    "- Stack objects\n",
    "    - From the time a function runs to the time it terminates\n",
    "- Heap objects\n",
    "    - dynamically allocated variables, e.g. new"
   ]
  },
  {
   "cell_type": "markdown",
   "metadata": {},
   "source": [
    "### Scope\n",
    "- Static: binding of a name is given by its declaration in the innermost enclosing block\n",
    "    - Most languages use some variant of this\n",
    "    - Closest nested scope rule usually applies\n",
    "- Dynamic: binding of a name is given by the most recent declaration encountered at runtime\n",
    "    - Used in Lisp, Snobol, APL"
   ]
  },
  {
   "cell_type": "markdown",
   "metadata": {},
   "source": [
    "### Static scoping variations\n",
    "- What is the scope of x?\n",
    "    ```\n",
    "    {\n",
    "        statements1 ;\n",
    "        var x = 5;\n",
    "        statements2 ;\n",
    "    }\n",
    "    ```\n",
    "-  C++, Ada: statements2\n",
    "- Legacy C, Pascal: statements2 (but statements1 not allowed)\n",
    "- Javascript: entire block"
   ]
  },
  {
   "cell_type": "markdown",
   "metadata": {},
   "source": [
    "### Memory allocation\n",
    "- Static: allocated once at compile time (usually in protected memory.) Usually include:\n",
    "    - Strings, constants, static variables.\n",
    "- Stacks: allocated in frames on a first-in last-out basis. Frames usually store:\n",
    "    - Actual parameters\n",
    "    - Temporaries\n",
    "    - Local variables\n",
    "    - Bookkeeping information\n",
    "    - Return address\n",
    "- Heap: allocated from main memory according to an allocation policy.\n",
    "    - First-fit\n",
    "    - Best-fit"
   ]
  },
  {
   "cell_type": "markdown",
   "metadata": {},
   "source": [
    "### Overloading\n",
    "- Overloading is a form of ad-hoc polymorphism whereby methods and operators can have several meanings depending on context.\n",
    "    - Functions: normally distinguished by the function signature.\n",
    "    - Custom memory allocation (C++: new and placement-new)\n",
    "    - Operators\n",
    "- Some languages can define new operators (ALGOL 68, Fortran, F#, Smalltalk)\n",
    "    - And others can’t. (ML, Prolog)\n",
    "    - Some languages will overload only a limited set (C++, Pascal, C#)\n",
    "    - And others don’t support overloading at all. (C, Java, JavaScript, BASIC)\n",
    "- Do not confuse with a similar but distinct concept of coercion.\n",
    "    - Overloading example: multiple functions, use the one depending on specific operation. "
   ]
  },
  {
   "cell_type": "markdown",
   "metadata": {},
   "source": [
    "### Control structures"
   ]
  },
  {
   "cell_type": "markdown",
   "metadata": {},
   "source": [
    "### The infamous go-to"
   ]
  },
  {
   "cell_type": "markdown",
   "metadata": {},
   "source": [
    "### Selection"
   ]
  },
  {
   "cell_type": "markdown",
   "metadata": {},
   "source": [
    "### Nesting"
   ]
  },
  {
   "cell_type": "markdown",
   "metadata": {},
   "source": [
    "### Statement grouping"
   ]
  },
  {
   "cell_type": "markdown",
   "metadata": {},
   "source": [
    "### Short-circuit evaluation"
   ]
  },
  {
   "cell_type": "markdown",
   "metadata": {},
   "source": [
    "### Multiway selection"
   ]
  },
  {
   "cell_type": "markdown",
   "metadata": {},
   "source": [
    "### Ada case statement"
   ]
  },
  {
   "cell_type": "markdown",
   "metadata": {},
   "source": [
    "### Implementation of case"
   ]
  },
  {
   "cell_type": "markdown",
   "metadata": {},
   "source": [
    "### Complications"
   ]
  },
  {
   "cell_type": "markdown",
   "metadata": {},
   "source": []
  }
 ],
 "metadata": {
  "language_info": {
   "name": "python"
  },
  "orig_nbformat": 4
 },
 "nbformat": 4,
 "nbformat_minor": 2
}
