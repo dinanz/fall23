{
 "cells": [
  {
   "cell_type": "markdown",
   "metadata": {},
   "source": [
    "# Lecture 1 Intro and Basic Knowledge\n",
    "September 5, 2023"
   ]
  },
  {
   "cell_type": "markdown",
   "metadata": {},
   "source": [
    "### 1.1 Course overview\n",
    "- Language paradigms\n",
    "    - `Imperative`\n",
    "    - `Functional`\n",
    "    - `Logical`\n",
    "    - `Object-oriented`\n",
    "- Language history and roots\n",
    "- Language design and implementation\n",
    "- Language standards"
   ]
  },
  {
   "cell_type": "markdown",
   "metadata": {},
   "source": [
    "### 1.2 Main themes of programming language design and use\n",
    "- `Paradigm` (model of computation)\n",
    "- `Expressiveness`\n",
    "    - Control structures\n",
    "    - Abstraction mechanisms\n",
    "    - Types and their operations\n",
    "    - Tools for programming in the large\n",
    "- `Ease of use`: writeability, readability, maintainability\n",
    "- `Portability`"
   ]
  },
  {
   "cell_type": "markdown",
   "metadata": {},
   "source": [
    "### 1.3 Language as a tool for thought\n",
    "- Role of language as a coomunication vehicle among programmers\n",
    "- All general purpose lagnuages are *Turing complete* (they can all compute the same things)\n",
    "- Languages can make expression of certain algorithms difficult or easy\n",
    "- Idioms in language X may be useful inspiration when writing in language Y"
   ]
  },
  {
   "cell_type": "markdown",
   "metadata": {},
   "source": [
    "### 1.4 Programming Paradigms\n",
    "- **`Imperitive`** (*von Neumann*):\n",
    "    - e.g. `Fortran, Pascal, C, Ada`\n",
    "    - Programs have mutable storage (state) modified by assignments\n",
    "    - The most common and familiar paradigm\n",
    "- **`Funcitonal`** (*applicative*):\n",
    "    - e.g. `Scheme, Lisp, ML, Haskell`\n",
    "    - Functions are first-class values\n",
    "    - side effects (e.g. assignents) discouraged\n",
    "- **`Logical`** (*declarative*):\n",
    "    - e.g. `Prolog, Mercury`\n",
    "    - Programs are sets of assertions and rules\n",
    "- **`Object-Oriented`**:\n",
    "    - e.g. `Java, C#, C++, Smalltalk, Simula 67`\n",
    "    - Data structures and their operations are bundled together\n",
    "    - Inheritance\n",
    "- **`Quantum`**:\n",
    "    - e.g. `QCL, Q, Q#, qGCL`\n",
    "    - Performs operations on data using quantum bits (\"qubits\")\n",
    "    - Utilises quantum properties such as superposition and entanglement"
   ]
  },
  {
   "cell_type": "markdown",
   "metadata": {},
   "source": [
    "### 1.5 Beginnings\n",
    "- `Assembly`\n",
    "    - Hardware specific\n",
    "    - Not easily ported\n",
    "    - Repetition of the same patterns\n",
    "    - More difficult to reuse code\n",
    "    - Great effort for even simple algorithms\n",
    "    - High probability of programming error\n",
    "    - Chance of wearing out or even damaging hardware\n",
    "- `Fortran`\n",
    "    - Invented by John Backus et. al in 1957\n",
    "    - First successful high-level programming language\n",
    "    - Primary use: scientific computing and mathematics\n",
    "    - e.g. `A = C + D`\n",
    "- `Cobol`\n",
    "    - Degisned by committee, released late 1960\n",
    "    - Common or Business oriented language\n",
    "    - Data processing, business, finance, administrative systems\n",
    "    - Introduced structures\n",
    "    - e.g. `ADD C TO D GIVING A`\n",
    "- `Algol`\n",
    "    - Invented by a group of European and American computer scientists, released in 1958\n",
    "    - Popularised many PL conecpts still in use today\n",
    "        - BNT\n",
    "        - Compound statements using blocks\n",
    "        - Case statement\n",
    "        - Call-by-reference\n",
    "        - Concurrency\n",
    "        - Orthogonality\n",
    "    - Was not a commercial success (e.g. no standard I/O)\n",
    "    - e.g. `IF Ivar > Jvar THEN Ivar ELSE Jvar FI := 3;`"
   ]
  },
  {
   "cell_type": "markdown",
   "metadata": {},
   "source": [
    "### 1.6 Language standards\n",
    "- Developed by working groups of standard bodies (ANSI, ISO)\n",
    "- Main goal: define the language\n",
    "- Pro: discourages language \"flavours\" (like Lisp), increases portability\n",
    "- Con: places creative freedom in the hands of a few people\n",
    "- Major compiler manufactureres generally align to the standards\n",
    "- Defines syntactic and semantic correctness (sometimes partially)\n",
    "- Enforcement is often left to individual compiler implementations\n",
    "- Undefined behaviour many not be detected, decreases portability"
   ]
  },
  {
   "cell_type": "markdown",
   "metadata": {},
   "source": [
    "### 1.7 Syntax and semantics\n",
    "- `Syntax` refers to external representation\n",
    "    - Given some text, is it a well-formed program?\n",
    "- `Semantics` denotes meaning\n",
    "    - Given a well-formed program, what does it mean?\n",
    "    - Often depends on context (e.g. C++ keyword `const`, operator `&`)\n",
    "- Similar looking constructs in different languages often have different meanings (e.g. `virtual`)"
   ]
  },
  {
   "cell_type": "markdown",
   "metadata": {},
   "source": [
    "### 1.8 Compilation overview\n",
    "- Major phases of a compiler\n",
    "    1. Lexer: text -> tokens\n",
    "    2. Parser: tokens -> parse tree\n",
    "    3. Semantic analyser: parse tree -> abstract syntax tree\n",
    "    4. Intermediate code generation\n",
    "    5. Optimisation (machine independent): local and global redundancy, elimination, loop optimisation\n",
    "    6. Target code generation\n",
    "    7. Optimisation (machine independent): instruction scheduling, register allocation, peephole optimisation"
   ]
  },
  {
   "cell_type": "markdown",
   "metadata": {},
   "source": [
    "### 1.9 Grammars\n",
    "- A grammar `G` is a tuple (∑, N, S, 𝛿)\n",
    "    - `∑` is the set of terminal symbols (alphabet)\n",
    "    - `N` is the set of non-terminal symbols\n",
    "    - `S` is the distinguished non-terminal: the root symbol\n",
    "    - `𝛿` is the set of rewrite rules (productions) of the form:\n",
    "        - ABC ... ::= XYZ ...\n",
    "        - where A, B, C, X, Y, Z are terminals and non-terminals\n",
    "    - The symbol `ε` represents the empty string\n",
    "        - Epsilon transition: A ::= ε means “nonterminal A rewrites to no terminals or non-terminals.”\n",
    "    - The language is the set of sentences containing ***only*** terminal symbols that can be generated by applying the rewriting rules starting from the root symbol (let’s call such sentences strings)"
   ]
  },
  {
   "cell_type": "markdown",
   "metadata": {},
   "source": [
    "### 1.10 BNF for context-free grammars\n",
    "- BNF = Backus-Naur Form\n",
    "- Alternation: Symb ::= Letter | Digit\n",
    "- Sequencing: Id ::= Letter Symb\n",
    "- EBNF = Extended Backus-Naur Form. Encompasses everything above, plus:\n",
    "    - Repetition: Id ::= Letter {Symb}\n",
    "        - or we can use a Kleene star: Id ::= Letter Symb∗\n",
    "        - for one or more repetitions: Int ::= Digit+\n",
    "    - Option: Num ::= Digit+[. Digit∗]\n",
    "    - Grouping: SignedNum ::= (‘+’|‘-’) Num\n",
    "- Note: need convention for metasymbols – what if “|,” “[,” “],” “+,” etc. are in the language?"
   ]
  },
  {
   "cell_type": "markdown",
   "metadata": {},
   "source": [
    "### 1.11 Partial Java grammar\n"
   ]
  },
  {
   "cell_type": "markdown",
   "metadata": {},
   "source": [
    "### 1.12 The Chomsky Hierarchy\n",
    "- Regular grammars (Type 3)\n",
    "    - All productions can be written in the form: N ::= TN\n",
    "    - One non-terminal on left side; at most one on right\n",
    "    - Generally used for scanners\n",
    "- Context-free grammars (Type 2)\n",
    "    - All productions can be written in the form: N ::= XYZ\n",
    "    - One non-terminal on the left-hand side; mixture on right\n",
    "    - Most major programming languages\n",
    "- Context-sensitive grammars (Type 1)\n",
    "    - Number of symbols on the left is no greater than on the right\n",
    "    - No production shrinks the size of the sentential form\n",
    "    - Used for parts of C++, but otherwise rarely used\n",
    "- Type-0 grammars\n",
    "    - No restrictions"
   ]
  },
  {
   "cell_type": "markdown",
   "metadata": {},
   "source": [
    "### 1.13 Ruglar grammar example\n",
    "- A grammar for float:\n",
    "    - Float ::= Digits | Digits. Digits\n",
    "    - Digits ::= Digit | Digit Digits\n",
    "    - Digit ::= 0|1|2|3|4|5|6|7|8|9\n",
    "    - Float: root; digits: non-terminals; digit: non-terminal; 0-9.: terminal symbols"
   ]
  },
  {
   "cell_type": "markdown",
   "metadata": {},
   "source": [
    "### 1.14 Regular expressions\n",
    "- Regular grammars can be used to generate regular languages. Regular expressions can be used to accept regular languages.\n",
    "- We say that a regular expression R denotes the language [[R]].\n",
    "- Basic regular expressions:\n",
    "    - ε denotes ∅\n",
    "    - A character x, where x ∈ Σ, denotes { x }\n",
    "    - (sequencing) a sequence of two regular expressions RS denotes { αβ | α ∈ [[R]], β ∈ [[S]] }\n",
    "    - (alternation) R|S denotes [[R]] ∪ [[S]]\n",
    "    - (Kleene star) R∗ denotes the set of strings which are concatenations of zero or more strings from [[R]]\n",
    "    - parentheses are used for grouping\n",
    "- Shorthands:\n",
    "    - R? ≡ ε|R\n",
    "    - R+ ≡ RR∗"
   ]
  }
 ],
 "metadata": {
  "language_info": {
   "name": "python"
  },
  "orig_nbformat": 4
 },
 "nbformat": 4,
 "nbformat_minor": 2
}
