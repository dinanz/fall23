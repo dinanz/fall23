{
 "cells": [
  {
   "cell_type": "markdown",
   "metadata": {},
   "source": [
    "# L5: Types"
   ]
  },
  {
   "cell_type": "markdown",
   "metadata": {},
   "source": [
    "### What is a type\n",
    "- An interpretation of binary numbers - what to make of the 1s and 0s in memory?\n",
    "- A set of values"
   ]
  },
  {
   "cell_type": "markdown",
   "metadata": {},
   "source": [
    "### Static vs. dynamic type systems\n",
    "- Static (Ada, C++, Java, ML)\n",
    "    - Variables have types, bound when declared\n",
    "    - Compiler ensures at compile time that type rules are obeyed\n",
    "- Dynamic (JavaScript, PHP, Lisp, Ruby)\n",
    "    - Variables don't have the types; the values do\n",
    "    - Compiler ensures at run time that type rules are obeyed\n",
    "- Some languages allow a mix\n",
    "    - Static is faster\n",
    "    - Dynamic more flexible"
   ]
  },
  {
   "cell_type": "markdown",
   "metadata": {},
   "source": [
    "### Strong vs. weak typing\n",
    "- Strongly typed language doesn't allow variables to be used in a way inconsistent with their types\n",
    "- Weakly typed language allows many ways to bypass the type system\n",
    "    - A common feature in weakly typed languages is coersion\n",
    "    - e.g. float a = 5 (implicitly coercing int 5 into a float)"
   ]
  },
  {
   "cell_type": "markdown",
   "metadata": {},
   "source": [
    "### Scalar vs aggregate types\n",
    "- Scalar\n",
    "    - Single values\n",
    "    - Discrete types\n",
    "    - Must have a clear successor, predecessor\n",
    "    - Floating point types\n",
    "    - Rational types\n",
    "- Aggregate types\n",
    "    - Arrays, collection of objects\n",
    "    - Complex objects\n",
    "    - Structures and classes"
   ]
  },
  {
   "cell_type": "markdown",
   "metadata": {},
   "source": [
    "### Other intrinsic types\n",
    "- Character, string\n",
    "    - Some languages don't have a character typpe\n",
    "    - String mutability\n",
    "- Void, unit"
   ]
  },
  {
   "cell_type": "markdown",
   "metadata": {},
   "source": [
    "### Unicode\n",
    "- International standard designed to enforce a standardised set of `code points`\n",
    "    - A code point represents a character/symbol/glyph, including emojis\n",
    "    - Denoetd by U-XXXX, where X are hex values\n",
    "    - Set of all code points: code space\n",
    "    - A code point is an abstract/conceptual representation, not concrete representation\n",
    "- Unicode Transformation Format\n",
    "    - Maps code point to physical machine representation\n",
    "    - e..g UTF-8 1-4 bytes, UTF-16 2-6 bytes"
   ]
  },
  {
   "cell_type": "markdown",
   "metadata": {},
   "source": [
    "### Arrays\n",
    "- Index types\n",
    "- Index bounds\n",
    "- When is length determined\n",
    "- Dimensions\n",
    "- Literals\n",
    "- First classness"
   ]
  }
 ],
 "metadata": {
  "language_info": {
   "name": "python"
  },
  "orig_nbformat": 4
 },
 "nbformat": 4,
 "nbformat_minor": 2
}
