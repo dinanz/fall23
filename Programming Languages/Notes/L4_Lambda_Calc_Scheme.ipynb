{
 "cells": [
  {
   "cell_type": "markdown",
   "metadata": {},
   "source": [
    "# L4: Lambda Calculus and Scheme\n",
    "September 26, 2023"
   ]
  },
  {
   "cell_type": "markdown",
   "metadata": {},
   "source": [
    "### Lambda Calculus\n",
    "- Invented as a model of computation\n",
    "- defines the same class of functions as Turing Machines\n",
    "- Basis for functional languages\n",
    "- Has `syntax` and `reduction` rules"
   ]
  },
  {
   "cell_type": "markdown",
   "metadata": {},
   "source": [
    "### Syntax\n",
    "- Pure, untyped variant of the λ-calculus\n",
    "```\n",
    "    M ::= x       variable\n",
    "        | λx.M      abstraction (function definition)\n",
    "        | M.M       application (function invocation)\n",
    "```"
   ]
  },
  {
   "cell_type": "markdown",
   "metadata": {},
   "source": [
    "### Alpha conversion"
   ]
  },
  {
   "cell_type": "markdown",
   "metadata": {},
   "source": [
    "### Beta reduction"
   ]
  },
  {
   "cell_type": "markdown",
   "metadata": {},
   "source": [
    "### Scheme\n",
    "- Related to Lisp\n",
    "- Clear and simple semantics\n",
    "- Statically scoped\n",
    "- Dynamically typed\n",
    "- Functional language: first-class functions\n",
    "- Garbage collection\n",
    "- Simple syntax, lots of parentheses\n",
    "- Continuations\n",
    "- Hygienic macros"
   ]
  },
  {
   "cell_type": "markdown",
   "metadata": {},
   "source": [
    "### "
   ]
  }
 ],
 "metadata": {
  "language_info": {
   "name": "python"
  },
  "orig_nbformat": 4
 },
 "nbformat": 4,
 "nbformat_minor": 2
}
