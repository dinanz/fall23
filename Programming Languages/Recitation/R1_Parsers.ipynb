{
 "cells": [
  {
   "cell_type": "markdown",
   "metadata": {},
   "source": [
    "# Recitation 1\n",
    "September 8, 2023"
   ]
  },
  {
   "cell_type": "markdown",
   "metadata": {},
   "source": [
    "### Grammar\n",
    "- Ambiguity is part of the grammar, not the language\n",
    "- A CFG (context-free grammar) is ambiguous if there exists more than one parse tree for a given input"
   ]
  },
  {
   "cell_type": "markdown",
   "metadata": {},
   "source": [
    "### Parsing\n",
    "- LL parse\n",
    "    - Left-to-right, leftmost derivation\n",
    "    - Top-down parsing, starts from the root to obtain leaves\n",
    "- LR prase\n",
    "    - Left-to-right, rightmost derivation\n",
    "    - Bottom-up parsing, starts from the leaves to form root\n",
    "- Shift/reduce conflict: at a given step, shift or reduce?\n",
    "- Reduce/reduce conflict: at a given step, which items to reduce?"
   ]
  },
  {
   "cell_type": "markdown",
   "metadata": {},
   "source": [
    "### Regular expression\n"
   ]
  }
 ],
 "metadata": {
  "language_info": {
   "name": "python"
  },
  "orig_nbformat": 4
 },
 "nbformat": 4,
 "nbformat_minor": 2
}
