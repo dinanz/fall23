{
 "cells": [
  {
   "cell_type": "markdown",
   "metadata": {},
   "source": [
    "# L3: Transformations"
   ]
  },
  {
   "cell_type": "markdown",
   "metadata": {},
   "source": [
    "### Transformations\n",
    "- Position, reshape, animate, rescale\n",
    "- `Orthographically` vs. `perspectively` project 3D geometry onto plane\n",
    "    - Orthographic: disregards depth\n",
    "    - Perspective: depth\n",
    "- Basic 4 transformations\n",
    "    - Scale\n",
    "        - 2D matrix\n",
    "        ```\n",
    "            | horizontal scale, 0 |\n",
    "            | 0,   vertical scale |\n",
    "        ```\n",
    "        - ![Alt text](image.png)\n",
    "    - Rotate\n",
    "        - Always assume rotation counter clockwise unless stated otherwise\n",
    "        - ![Alt text](image-2.png)\n",
    "    - Shear\n",
    "        - 2D matrix\n",
    "        ```\n",
    "            | x, horizontal shear |\n",
    "            | vertical shear,   y |\n",
    "        ```\n",
    "        - ![Alt text](image-1.png)\n",
    "    - Mirror\n",
    "- Composition of transformations\n",
    "    - E.g. apply scale S and rotation R to v1\n",
    "    - v2 = Sv1\n",
    "    - v3 = Rv2 = R(Sv1) = (RS)v1"
   ]
  },
  {
   "cell_type": "markdown",
   "metadata": {},
   "source": [
    "### Graphics pipeline"
   ]
  }
 ],
 "metadata": {
  "language_info": {
   "name": "python"
  },
  "orig_nbformat": 4
 },
 "nbformat": 4,
 "nbformat_minor": 2
}
