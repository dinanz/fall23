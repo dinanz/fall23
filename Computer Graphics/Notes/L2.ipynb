{
 "cells": [
  {
   "cell_type": "markdown",
   "metadata": {},
   "source": [
    "# Display"
   ]
  },
  {
   "cell_type": "markdown",
   "metadata": {},
   "source": [
    "### Raster images\n",
    "- 2D arrays of pixels (shorthand for `picture element`)\n",
    "- Original image size can be displayed on display of different size\n",
    "    - `Display independency`\n",
    "- Pixel colours come from colour channel values\n",
    "    - RBG()\n",
    "- Raster displays\n",
    "    - TV\n",
    "    - Projector\n",
    "    - Monitors"
   ]
  },
  {
   "cell_type": "markdown",
   "metadata": {},
   "source": [
    "### Vector images\n",
    "- Stores the descriptions of the shapes\n",
    "    - Areas of colour bounded by lines and curves\n",
    "    - Stores instructions to display image\n",
    "- Resolution independent\n",
    "- Good for high-res devices\n",
    "- However the image must be rasterised before display\n",
    "- Used in:\n",
    "    - Text\n",
    "    - Diagrams\n",
    "    - Mechanical drawings\n"
   ]
  },
  {
   "cell_type": "markdown",
   "metadata": {},
   "source": [
    "### Pixels\n",
    "- Each pixel has subpixels\n",
    "    - RGB\n",
    "- Each subpixels emits light of its specific colour but the eye cannot distinguish them"
   ]
  },
  {
   "cell_type": "markdown",
   "metadata": {},
   "source": [
    "### Emissive display\n",
    "- Pixels emit a controllable amount of light from LEDs (light emitting diode)\n",
    "- It is its own light source"
   ]
  },
  {
   "cell_type": "markdown",
   "metadata": {},
   "source": [
    "### Raster displays\n",
    "- Bitmap\n",
    "    - Intensity of each pixel depends on frame buffer\n",
    "    - B&W display:\n",
    "        - one bit per pixel is needed\n",
    "        - The frame buffer is called the bitmap\n",
    "- Pixmap\n",
    "    - Multiple bits per pixel"
   ]
  },
  {
   "cell_type": "markdown",
   "metadata": {},
   "source": [
    "### Transmissive displau\n",
    "- Pixels do not emit light\n",
    "- Vary the amount of light pass through them\n",
    "- Requires a light source to illuminate them\n",
    "- e.g. LCD (liquid crystal display)\n",
    "    - Material whose molecular strcture to enable it to rotate the polarisation of light that passes through it\n",
    "    - An LCD pixel has a layer of polarising film behind it\n",
    "    - Illuminated by polarised light"
   ]
  },
  {
   "cell_type": "markdown",
   "metadata": {},
   "source": [
    "### Resolution\n",
    "- Dimensions of the pixel grid\n",
    "- e.g. 1980x1020"
   ]
  },
  {
   "cell_type": "markdown",
   "metadata": {},
   "source": [
    "### Hardcopy devices\n",
    "- Record images on paper\n",
    "- Pigments distributed on paper"
   ]
  },
  {
   "cell_type": "markdown",
   "metadata": {},
   "source": [
    "### Digital camera\n",
    "- 2D array input device\n",
    "- Contains an image sensor\n",
    "    - Semiconductor device\n",
    "    - Has a grid of light-sensitive pixels\n",
    "    - 2 common types\n",
    "        - CCD (charge coupled device)\n",
    "        - CMOS (complimentary metal-oxide semiconductor)"
   ]
  },
  {
   "cell_type": "markdown",
   "metadata": {},
   "source": [
    "### Pixel formats\n",
    "-  16 bit half precision floating point RGB\n",
    "    - HDR images\n",
    "    - Intermediate format for real time rendering\n",
    "- 32 bit floating point RGB\n",
    "    - General purpose intermediate format for software rendering and processing HDR"
   ]
  },
  {
   "cell_type": "markdown",
   "metadata": {},
   "source": [
    "### Monitor intensity and gamma\n",
    "- Gamma: non-linearity of the display\n",
    "    - Gamma correction used to encode and decode luminance values in video or image systems\n",
    "    - Displayed intensity = (maximum intensity)α<sup>γ</sup>\n",
    "    - α: input pixel value between 0 and 1\n",
    "    - γ: gamma value"
   ]
  },
  {
   "cell_type": "markdown",
   "metadata": {},
   "source": [
    "### Alpha compositing\n",
    "- Compositing: insert foreground image over background\n",
    "- If foreground pixels opaque: replace background pixel\n",
    "- If foreground pixels trnasparent: no change to background pixel\n",
    "- If foreground pixels partially transparent: blend back and foreground"
   ]
  },
  {
   "cell_type": "markdown",
   "metadata": {},
   "source": [
    "### Pixel coverage\n",
    "- Fraction of pixels covered by foreground layer\n",
    "- Formula: \n",
    "    - Foreground color: c<sub>f</sub>. Background color: c<sub>b</sub>\n",
    "    - c = ∝ c<sub>f</sub> +(1 −∝)c<sub>b</sub>"
   ]
  },
  {
   "cell_type": "markdown",
   "metadata": {},
   "source": [
    "### Graphics pipeline\n",
    "- GPU\n",
    "    - Reads each selected vertex out of the vertex array\n",
    "    - Runs it through the vertex shader\n",
    "    - Connects the projected vertices to form triangles\n",
    "- Rasteriser\n",
    "- Fragment shader\n",
    "- Frame buffer"
   ]
  },
  {
   "cell_type": "markdown",
   "metadata": {},
   "source": [
    "### Object order rendering\n",
    "- Draw objects one by one onto screen\n",
    "- Any graphics system has one or more types of `primitive object` that it can handle directly, e.g. triangles\n",
    "- More complex objects are converted into these primitives"
   ]
  },
  {
   "cell_type": "markdown",
   "metadata": {},
   "source": [
    "### Line drawing\n",
    "- Line drawing command\n",
    "    - Takes two endpoints\n",
    "    - "
   ]
  },
  {
   "cell_type": "markdown",
   "metadata": {},
   "source": [
    "### Digital Differential Analyser (DDA)\n",
    "- Guarantees thinnest possible line\n",
    "- Sampling in equal intervals\n",
    "- Considers slope of line\n",
    "```\n",
    "    i = round(x0)\n",
    "    m = (y1-y0)/(x1-x0)\n",
    "    y = y0+m*(i-x0)\n",
    "    while(i<=x1){\n",
    "        setPixel(i, round(y))\n",
    "        i = i + 1\n",
    "        y = y + m\n",
    "    }\n",
    "```"
   ]
  },
  {
   "cell_type": "code",
   "execution_count": null,
   "metadata": {
    "vscode": {
     "languageId": "html"
    }
   },
   "outputs": [],
   "source": [
    "Say (1,5) to (8,7)\n",
    "i = 1\n",
    "m = 2/7\n",
    "y = 5\n",
    "range(1,8){\n",
    "    set 1, 5\n",
    "    set 2, 5+2/7 = 2, 5\n",
    "    set 3, 5+4/7 = 3, 5\n",
    "    set 4, 5+6/7 = 4, 6\n",
    "    set 5, 5+8/7 = 5, 6\n",
    "    set 6, 5+10/7 = 5, 6\n",
    "    set 7, 5+12/7 = 7, 7\n",
    "    set 8, 7 = 8, 7\n",
    "}"
   ]
  },
  {
   "cell_type": "markdown",
   "metadata": {},
   "source": [
    "### Circle drawing\n",
    "- Polygonal approximations\n",
    "- Use straight lines\n",
    "- Generate points at equal angular increments around circle\n",
    "- Mid-point circle drawing"
   ]
  },
  {
   "cell_type": "markdown",
   "metadata": {},
   "source": [
    "### Gouraud Interpolation\n",
    "- Colour interpolation\n",
    "- Vertices have colours c0, c1, c2\n",
    "- Colour at point a in the triangle with barycentric coordinates"
   ]
  },
  {
   "cell_type": "markdown",
   "metadata": {},
   "source": [
    "### Clipping\n",
    "- Remove parts that aren't in view of camera"
   ]
  },
  {
   "cell_type": "markdown",
   "metadata": {},
   "source": [
    "### Assignment\n",
    "- Front cam vs. back cam\n",
    "    - Front camera is generally much worse than back cam because of the space it takes. The back cameras are big while the front cam is tiny since the screen takes up much of the front side's space. The lens cannot take high quality photos.\n",
    "- HDR technology\n",
    "    - HDR allows for more vibrant colours and higher range of luminosity in an image. In rendering, lighting is calculated with HDR. \"Bright things can be really bright, dark things can be really dark, and details can be seen in both.\"\n",
    "- PNG vs. JPG\n",
    "    - JPG uses lossy compression while PNG uses lossless, which is also why PNG files tend to be bigger. JPG uses a compression algorithm based on DCT.\n",
    "- Check line drawing algos\n",
    "    - By using the y = mx + c, you can find which pixels the straight line goes through at each x. For a thinner line you could decide to choose only one pixel to use in each column if the line goes through two of them, especially if the line is more horizontal. Depending on the angle of the line this may change."
   ]
  }
 ],
 "metadata": {
  "language_info": {
   "name": "python"
  },
  "orig_nbformat": 4
 },
 "nbformat": 4,
 "nbformat_minor": 2
}
