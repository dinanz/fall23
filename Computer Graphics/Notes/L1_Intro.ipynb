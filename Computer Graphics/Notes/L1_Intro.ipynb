{
 "cells": [
  {
   "cell_type": "markdown",
   "metadata": {},
   "source": [
    "# L1 Introduction\n",
    "September 6, 2023"
   ]
  },
  {
   "cell_type": "markdown",
   "metadata": {},
   "source": [
    "### Topics covered\n",
    "- Introduction\n",
    "- Basic Linear Algebra\n",
    "- Introduction to C++ and OpenGL\n",
    "- Images\n",
    "- Ray Tracing\n",
    "- Spatial Data Structures\n",
    "- Procedural Synthesis\n",
    "- 2D Transformations\n",
    "- Viewing Transformations\n",
    "- Rasterization\n",
    "- Perspective projection\n",
    "- Texture Mapping\n",
    "- Parameterization\n",
    "- Interpolating Curves\n",
    "- Approximating Curves\n",
    "- Surfaces\n",
    "- Mesh Deformation\n",
    "- Mesh Data Structures\n",
    "- Introduction to physically-based simulation systems"
   ]
  },
  {
   "cell_type": "markdown",
   "metadata": {},
   "source": [
    "### Course goals\n",
    "- Explain and apply the fundamental mathematical concepts used in image synthesis algorithms\n",
    "- Implement a basic rendering system based on raytracing\n",
    "- Implement a basic rendering pipeline based on rasterization\n",
    "- Develop graphics programs in C++ using the Simple Directmedia Library (SDL)\n",
    "- Develop simulations using game engines"
   ]
  },
  {
   "cell_type": "markdown",
   "metadata": {},
   "source": [
    "### Grading\n",
    "- 60% assignments\n",
    "- 40% one final exam"
   ]
  },
  {
   "cell_type": "markdown",
   "metadata": {},
   "source": [
    "### Mathematics requirements\n",
    "- Logarithms\n",
    "    - Exponential terms\n",
    "    - Natural logs\n",
    "- Quadratic euqations\n",
    "    - Discriminants\n",
    "        - D = B<sup>2</sup>-4AC\n",
    "- Polar coordinates vs. cartesian plane coordinates\n",
    "- Trigonometry\n",
    "- Matrices"
   ]
  }
 ],
 "metadata": {
  "language_info": {
   "name": "python"
  },
  "orig_nbformat": 4
 },
 "nbformat": 4,
 "nbformat_minor": 2
}
