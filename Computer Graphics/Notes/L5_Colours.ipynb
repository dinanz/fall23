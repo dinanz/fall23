{
 "cells": [
  {
   "cell_type": "markdown",
   "metadata": {},
   "source": [
    "# L5"
   ]
  },
  {
   "cell_type": "markdown",
   "metadata": {},
   "source": [
    "### Illumination vs. shading\n",
    "- Illumination: determines colour of surface by simulating light attributes\n",
    "    - Global illumination\n",
    "        - Considers light from all surfaces, direct or indirect\n",
    "    - Local illumination\n",
    "        - Only considers light, observer position, and object material properties\n",
    "- Shading: applies illumination model at a set of points and colours the whole image"
   ]
  },
  {
   "cell_type": "markdown",
   "metadata": {},
   "source": [
    "### Basic illumination model\n",
    "- Simple and fast model for calculating surface intensity at a given point\n",
    "- Lighting based on\n",
    "    - Background lighting conditions\n",
    "    - Light source specifications e.g. colour, position\n",
    "    - Optical properties of surfaces"
   ]
  },
  {
   "cell_type": "markdown",
   "metadata": {},
   "source": [
    "### Diffuse light\n",
    "- Illumination reflects in all directions\n",
    "- "
   ]
  },
  {
   "cell_type": "markdown",
   "metadata": {},
   "source": [
    "### Lambert's law\n",
    "- Radian energy I<subu>d</sub> from surface d<sub>a</sub> for a given light source is"
   ]
  },
  {
   "cell_type": "markdown",
   "metadata": {},
   "source": [
    "### Specular light\n",
    "- Bright spots on shiny objects\n",
    "- Light reflected unequally\n",
    "- Dependant on the observer"
   ]
  },
  {
   "cell_type": "markdown",
   "metadata": {},
   "source": [
    "### Multiple light source"
   ]
  },
  {
   "cell_type": "markdown",
   "metadata": {},
   "source": [
    "### Mach band\n",
    "- After constant shading, it is shaded per surface, no curves or smoothing\n",
    "- `Mach band effect`"
   ]
  },
  {
   "cell_type": "markdown",
   "metadata": {},
   "source": [
    "### Smooth shading\n",
    "- Need per-vertex normals\n",
    "- Much better than mach band\n",
    "- Gouraud shading\n",
    "    - Interpolate colour across triangles\n",
    "    - Fast, supporte by most of graphics cards\n",
    "    - Intensity interpolation: linearly interpolate pixel intensity across polygon surface\n",
    "    - Linear interpolation: calculate value of point based on neighbours\n",
    "- Phong shading\n",
    "    - Interpolate normals across triangles\n",
    "    - More accurate but less widely used\n",
    "- Main difference: "
   ]
  },
  {
   "cell_type": "markdown",
   "metadata": {},
   "source": [
    "### Spotlight"
   ]
  },
  {
   "cell_type": "markdown",
   "metadata": {},
   "source": [
    "### Light source attenuation\n",
    "- Takes into account distance of light from surface"
   ]
  }
 ],
 "metadata": {
  "language_info": {
   "name": "python"
  },
  "orig_nbformat": 4
 },
 "nbformat": 4,
 "nbformat_minor": 2
}
