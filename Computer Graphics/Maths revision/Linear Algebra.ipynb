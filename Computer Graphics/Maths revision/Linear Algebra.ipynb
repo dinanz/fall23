{
 "cells": [
  {
   "cell_type": "markdown",
   "metadata": {},
   "source": [
    "# Linear Algebra Revision"
   ]
  },
  {
   "cell_type": "markdown",
   "metadata": {},
   "source": [
    "### 1.1 Vectors and linear combinations\n",
    "1. A vector v in two-dimensional space has two components v1 and v2.\n",
    "2. v + w = ( v1 + w1, v2 + w2) and cv = ( cv1, cv2) are found a component at a time.\n",
    "3. A linear combination of three vectors u and v and w is cu+ dv + ew.\n",
    "4. Take all linear combinations of u, or u and v, or u, v, w. In three dimensions, those combinations typically fill a line, then a plane, then the whole space R<sup>3</sup>."
   ]
  },
  {
   "cell_type": "markdown",
   "metadata": {},
   "source": [
    "### Basic formulas\n"
   ]
  },
  {
   "cell_type": "markdown",
   "metadata": {},
   "source": [
    "### Basic concepts\n",
    "- Vertices\n",
    "- Matrices\n",
    "    - Cross product\n",
    "    - Dot product\n",
    "    - Determinant\n",
    "    - |A|\n",
    "    - Order of matrix"
   ]
  },
  {
   "cell_type": "markdown",
   "metadata": {},
   "source": [
    "### Matrix basic operations\n",
    "- Addition and subtraction\n",
    "    - A + B = B + A\n",
    "    - (A + B) + C = A + (B + C)\n",
    "    - k(A + B) = kA + kB\n",
    "- Multiplication\n",
    "    - AB != BA\n",
    "    - (AB)C = A(BC)\n",
    "    - Distributive law:\n",
    "        - A(B+C) = AB + AC\n",
    "        - (A+B)C = AC + BC\n",
    "    - Multiplicative identity for any matrix A\n",
    "        - IA = AI = A\n",
    "- Transposing\n",
    "    - (A<sup>T</sup>)<sup>T</sup> = A\n",
    "    - (kA)<sup>T</sup> = kA<sup>T</sup>\n",
    "    - (A+B)<sup>T</sup> = A<sup>T</sup> + B<sup>T</sup>\n",
    "    - (AB)<sup>T</sup> = A<sup>T</sup>B<sup>T</sup>\n",
    "- Symmetric and skew symmetric matrices\n",
    "    - Symmetric if A<sup>T</sup> = A\n",
    "    - Skew symmetric if A<sup>T</sup> = -A; diagonals are 0\n",
    "    - For any square matrix\n",
    "        - (A + A<sup>T</sup>) is symmetric\n",
    "        - (A - A<sup>T</sup>) is skew-symmetric\n",
    "- Inverse\n",
    "    - A and B are inverse if AB = BA = I\n",
    "    - A<sup>-1</sup> = B\n",
    "    - Inverses are unique\n",
    "    - (A<sup>-1</sup>)<sup>-1</sup> = A\n",
    "    - (A<sup>-1</sup>)<sup>T</sup> = (A<sup>T</sup>)<sup>-1</sup>\n",
    "    - (A+B)<sup>-1</sup> = A<sup>-1</sup> + B<sup>-1</sup>\n",
    "    - (AB)<sup>-1</sup> = A<sup>-1</sup>B<sup>-1</sup>\n",
    "- Determinants\n",
    "    - det(I) = 1\n",
    "    - |A<sup>T</sup>| = |A|\n",
    "    - |AB| = |A||B|\n",
    "    - |A<sup>-1</sup>| = 1/|A|\n",
    "    - |kA| = k<sup>n</sup>|A|\n",
    "    "
   ]
  },
  {
   "cell_type": "markdown",
   "metadata": {},
   "source": []
  }
 ],
 "metadata": {
  "language_info": {
   "name": "python"
  },
  "orig_nbformat": 4
 },
 "nbformat": 4,
 "nbformat_minor": 2
}
