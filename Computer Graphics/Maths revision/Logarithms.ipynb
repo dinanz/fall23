{
 "cells": [
  {
   "cell_type": "markdown",
   "metadata": {},
   "source": [
    "# Logs"
   ]
  },
  {
   "cell_type": "markdown",
   "metadata": {},
   "source": [
    "### Bases\n",
    "- Log 10: log(x)\n",
    "- Log e: ln(x)"
   ]
  },
  {
   "cell_type": "markdown",
   "metadata": {},
   "source": [
    "### Natural log formulas\n",
    "- Product:\t`ln(xy) = ln(x) + ln(y)`\n",
    "- Quotient:\t`ln(x/y) = ln(x) − ln(y)`\n",
    "- Log of power:\t`ln(x`<sup>`y`</sup>`) = yln(x)`\n",
    "- Log of e: `ln(e) = 1`\n",
    "- Log of one:\t`ln(1) = 0`\n",
    "- Log reciprocal:\t`ln(1/x) = −ln(x)`"
   ]
  },
  {
   "cell_type": "markdown",
   "metadata": {},
   "source": [
    "### Basic formulas\n",
    "- log<sub>a</sub>1 = 0\n",
    "- log<sub>a</sub>a = 1"
   ]
  },
  {
   "cell_type": "markdown",
   "metadata": {},
   "source": [
    "![Alt text](image.png)"
   ]
  }
 ],
 "metadata": {
  "language_info": {
   "name": "python"
  },
  "orig_nbformat": 4
 },
 "nbformat": 4,
 "nbformat_minor": 2
}
