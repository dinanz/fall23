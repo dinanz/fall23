{
 "cells": [
  {
   "cell_type": "markdown",
   "metadata": {},
   "source": [
    "# L1 Introduction\n",
    "September 7, 2023"
   ]
  },
  {
   "cell_type": "markdown",
   "metadata": {},
   "source": [
    "### Grading\n",
    "- Final 35%\n",
    "- Capstone project 25%\n",
    "- Data analysis projects 10%x2 = 20%\n",
    "- Problem sets 1%x10 = 10%\n",
    "- After section appraisals 0.5%x12 = 6%\n",
    "- Intake survey 2%\n",
    "- Exit survey 2%"
   ]
  },
  {
   "cell_type": "markdown",
   "metadata": {},
   "source": [
    "### Theme blocks\n",
    "- 2 principle domains of data science:\n",
    "    1. Inference\n",
    "    2. Machine learning\n",
    "- "
   ]
  }
 ],
 "metadata": {
  "language_info": {
   "name": "python"
  },
  "orig_nbformat": 4
 },
 "nbformat": 4,
 "nbformat_minor": 2
}
