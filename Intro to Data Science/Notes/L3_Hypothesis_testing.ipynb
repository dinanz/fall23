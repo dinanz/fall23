{
 "cells": [
  {
   "cell_type": "markdown",
   "metadata": {},
   "source": [
    "# L3: Hypothesis Testing\n",
    "September 21, 2023"
   ]
  },
  {
   "cell_type": "markdown",
   "metadata": {},
   "source": [
    "### Null hypothesis\n",
    "- Null hypothesis vs. alternative hypothesis\n",
    "- Falsifiability\n",
    "- alpha value: 0.05\n",
    "- p-value\n",
    "- p < alpha, reject the null hypothesis. If the extremely unlikely has happened, then it is significant enough to prove that it exists.\n",
    "    - e.g. if the probability of something happening is 0.03 (<0.05), and it happened, it means that this must be a real thing. Too unlikely to happen by chance.\n",
    "    "
   ]
  },
  {
   "cell_type": "markdown",
   "metadata": {},
   "source": [
    "### "
   ]
  }
 ],
 "metadata": {
  "language_info": {
   "name": "python"
  },
  "orig_nbformat": 4
 },
 "nbformat": 4,
 "nbformat_minor": 2
}
